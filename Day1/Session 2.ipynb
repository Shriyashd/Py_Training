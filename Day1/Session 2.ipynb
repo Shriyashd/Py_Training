{
 "cells": [
  {
   "cell_type": "markdown",
   "metadata": {},
   "source": [
    "# Lists"
   ]
  },
  {
   "cell_type": "code",
   "execution_count": null,
   "metadata": {},
   "outputs": [],
   "source": [
    "#Creating a list\n",
    "my_list = ['a','b','c','d']"
   ]
  },
  {
   "cell_type": "code",
   "execution_count": null,
   "metadata": {},
   "outputs": [],
   "source": [
    "#lists can actually hold different object types\n",
    "my_list = ['A string',23,100.232,'o']"
   ]
  },
  {
   "cell_type": "code",
   "execution_count": null,
   "metadata": {
    "scrolled": true
   },
   "outputs": [],
   "source": [
    "#checking length of list\n",
    "len(my_list)"
   ]
  },
  {
   "cell_type": "code",
   "execution_count": null,
   "metadata": {},
   "outputs": [],
   "source": [
    "#indexing\n",
    "my_list[0]\n",
    "my_list[2]\n",
    "my_list[-1]\n"
   ]
  },
  {
   "cell_type": "code",
   "execution_count": null,
   "metadata": {},
   "outputs": [],
   "source": [
    "# slicing\n",
    "my_list[:4]\n",
    "my_list[:3]\n",
    "my_list[:5:2]\n",
    "\n",
    "#printing part of a list\n",
    "my_list[2:5]"
   ]
  },
  {
   "cell_type": "code",
   "execution_count": null,
   "metadata": {},
   "outputs": [],
   "source": [
    "# Basic List Methods\n",
    "#append\n",
    "my_list.append('z')\n",
    "\n",
    "#pop- by default pop takes off the element at the last index\n",
    "my_list.pop()\n",
    "\n",
    "#pop at specific index\n",
    "my_list.pop(3)\n",
    "\n",
    "#assign popped off element to a variable\n",
    "popped_item = my_list.pop()\n",
    "\n",
    "#sort a list\n",
    "new_list = [3,2,5,6,9]\n",
    "new_list.sort()\n",
    "\n",
    "#reversing a list\n",
    "new_list.reverse()"
   ]
  },
  {
   "cell_type": "code",
   "execution_count": null,
   "metadata": {},
   "outputs": [],
   "source": [
    "#lists within list/Nesting of lists\n",
    "l1 = [1,2,3]\n",
    "l2 = [4,5,6]\n",
    "l3 = [7,8,9]\n",
    "matrix = [l1,l2,l3]\n",
    "#first object of matrix\n",
    "matrix[0]\n",
    "#grab 2nd object of 3rd element of matrix\n",
    "matrix[2][1]"
   ]
  },
  {
   "cell_type": "code",
   "execution_count": null,
   "metadata": {},
   "outputs": [],
   "source": [
    "#simple list program\n",
    "available_basket = ['apple','banana','grapes','watermelon']\n",
    "request_basket = ['apple','banana','peach']\n",
    "\n",
    "for fruit in request_basket:\n",
    "    if fruit in available_basket:\n",
    "        print(\"Adding \",fruit,\" to basket\")\n",
    "    else\n",
    "        print(fruit,\" not available\")\n",
    "print(\"Shopping completed\")"
   ]
  },
  {
   "cell_type": "code",
   "execution_count": null,
   "metadata": {},
   "outputs": [],
   "source": [
    "#exercise\n",
    "#create a list containing names of your 5 friends \n",
    "#add new friend to the list\n",
    "#print element on 3rd position\n",
    "#delete element at 4th position"
   ]
  },
  {
   "cell_type": "markdown",
   "metadata": {},
   "source": [
    "# Dictionaries"
   ]
  },
  {
   "cell_type": "code",
   "execution_count": null,
   "metadata": {},
   "outputs": [],
   "source": [
    "#creating a dictionary\n",
    "myData = {\"name\":\"john\",\"age\":27,\"job\":\"teacher\",\"height\":\"170 cms\"}\n",
    "\n",
    "#accessing items of dictionary\n",
    "myData[\"job\"]\n",
    "\n",
    "#changing values \n",
    "myData[\"job\"] = \"professor\"\n",
    "myData[\"job\"]\n",
    "\n",
    "#printing all keys in the dictionary\n",
    "for item in myData:\n",
    "    print(item)\n",
    "    \n",
    "#printing all values in the dictionary\n",
    "for item in myData:\n",
    "    print(myData[item])\n",
    "    \n",
    "#adding item to dictionary\n",
    "myData[\"weight\"] = \"70 kgs\"\n",
    "myData[\"weight\"]\n",
    "\n",
    "#Dictionary Methods\n",
    "#removing item from dictionary\n",
    "myData.pop(\"age\")\n",
    "\n",
    "# keys() - returns all keys as a list\n",
    "newData.keys()\n",
    "\n",
    "# values() - returns all the values in the dictionary\n",
    "newData.values()\n",
    "\n",
    "#dictionary just like lists are very flexible in the data types they hold\n",
    "#list and dictionary within a dictionary\n",
    "newData = {\"team\":['karan','shriyash','amol'],\"details\":{\"company\":\"spglobal\",\"location\":\"mumbai\"}}\n",
    "#accesing dictionary items in newData\n",
    "newData[\"details\"][\"company\"]\n",
    "#accesing list item in newData\n",
    "newData[\"team\"][2]"
   ]
  },
  {
   "cell_type": "code",
   "execution_count": null,
   "metadata": {},
   "outputs": [],
   "source": [
    "#exercise\n",
    "#create a dictionary as given\n",
    "car ={\n",
    "  \"brand\": \"Ford\",\n",
    "  \"model\": \"Mustang\",\n",
    "  \"year\": 1964\n",
    "}\n",
    "#print the value of \"model\"\n",
    "#add new key \"fuel\" with value as \"petrol\"\n",
    "#print the new dictionary"
   ]
  },
  {
   "cell_type": "markdown",
   "metadata": {},
   "source": [
    "# Tuples\n",
    "When to use Tuples\n",
    "Used when immutability is necessary. If in your program you are passing around an object and need to make sure it does not get changed, then a tuple becomes your solution. It provides a convenient source of data integrity."
   ]
  },
  {
   "cell_type": "code",
   "execution_count": null,
   "metadata": {},
   "outputs": [],
   "source": [
    "#Tuple\n",
    "#A tuple is a collection which is ordered and unchangeable\n",
    "#creating a tuple\n",
    "myTuple = (\"apple\", \"banana\", \"cherry\")\n",
    "\n",
    "#accesing tuple items\n",
    "myTuple[2]\n",
    "\n",
    "#tuple functions\n",
    "#count - returns count of element passed in method\n",
    "myTuple.count(\"banana\")\n",
    "\n",
    "#index - Search for the first occurrence of the value \"banana\", and return its position\n",
    "myTuple.index(\"banana\")"
   ]
  },
  {
   "cell_type": "markdown",
   "metadata": {},
   "source": [
    "# Sets\n",
    "A set is a collection which is unordered and unindexed. In Python sets are written with curly brackets.\n",
    "It cannot contain duplicate items."
   ]
  },
  {
   "cell_type": "code",
   "execution_count": null,
   "metadata": {},
   "outputs": [],
   "source": [
    "#creating a set\n",
    "mySet = {\"apple\", \"banana\", \"cherry\"}\n",
    "\n",
    "#items in Set cannot be accessed using index as it is unindexed\n",
    "#use for loop\n",
    "for item in mySet:\n",
    "    print(item)\n",
    "    \n",
    "#set methods\n",
    "#adding item to set\n",
    "mySet.add(\"mango\")\n",
    "mySet\n",
    "\n",
    "#adding same element to set\n",
    "mySet.add(\"mango\")\n",
    "mySet\n",
    "#creating set with duplicate values\n",
    "newSet = {'2','2','1','5'}\n",
    "newSet\n",
    "\n",
    "#removing item from set\n",
    "mySet.remove(\"cherry\")\n",
    "mySet\n",
    "\n",
    "#pop will remove last item. Remember that sets are unordered, so you will not know what item that gets removed.\n",
    "mySet.pop()"
   ]
  },
  {
   "cell_type": "code",
   "execution_count": null,
   "metadata": {},
   "outputs": [],
   "source": []
  }
 ],
 "metadata": {
  "kernelspec": {
   "display_name": "Python 3",
   "language": "python",
   "name": "python3"
  },
  "language_info": {
   "codemirror_mode": {
    "name": "ipython",
    "version": 3
   },
   "file_extension": ".py",
   "mimetype": "text/x-python",
   "name": "python",
   "nbconvert_exporter": "python",
   "pygments_lexer": "ipython3",
   "version": "3.7.4"
  }
 },
 "nbformat": 4,
 "nbformat_minor": 4
}
