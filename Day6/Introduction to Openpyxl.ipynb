{
 "cells": [
  {
   "cell_type": "markdown",
   "metadata": {},
   "source": [
    "# Introduction to Openpyxl\n",
    "\n",
    "This file covers various functionalities of openpyxl libraries.\n",
    "It would help the user to understand about how excel can be controlled/\n",
    "modified using python. Following are majorly covered topics:\n",
    "    1. INSTALATION OF OPENPYXL AND BASICS\n",
    "    2. OPENPYXL WRITE DATA TO CELL\n",
    "    3. OPENPYXL APPEND VALUES\n",
    "    4. OPENPYXL READ DATA FROM CELL\n",
    "    5. OPENPYXL SHEETS\n",
    "    6. OPENPYXL MERGING CELL AND FREEZE THE PANES\n",
    "    7. OPENPYXL FORMULAS\n",
    "    8. ADDING CHART TO EXCEL FILE\n",
    "    9. ADDING IMAGE TO EXCEL"
   ]
  },
  {
   "cell_type": "code",
   "execution_count": 2,
   "metadata": {},
   "outputs": [
    {
     "ename": "ModuleNotFoundError",
     "evalue": "No module named 'openpyxl'",
     "output_type": "error",
     "traceback": [
      "\u001b[1;31m---------------------------------------------------------------------------\u001b[0m",
      "\u001b[1;31mModuleNotFoundError\u001b[0m                       Traceback (most recent call last)",
      "\u001b[1;32m<ipython-input-2-661200a96c7b>\u001b[0m in \u001b[0;36m<module>\u001b[1;34m\u001b[0m\n\u001b[0;32m      1\u001b[0m \u001b[1;31m# Let's import openpyxl library\u001b[0m\u001b[1;33m\u001b[0m\u001b[1;33m\u001b[0m\u001b[1;33m\u001b[0m\u001b[0m\n\u001b[0;32m      2\u001b[0m \u001b[1;33m\u001b[0m\u001b[0m\n\u001b[1;32m----> 3\u001b[1;33m \u001b[1;32mimport\u001b[0m \u001b[0mopenpyxl\u001b[0m\u001b[1;33m\u001b[0m\u001b[1;33m\u001b[0m\u001b[0m\n\u001b[0m",
      "\u001b[1;31mModuleNotFoundError\u001b[0m: No module named 'openpyxl'"
     ]
    }
   ],
   "source": [
    "# Let's import openpyxl library\n",
    "\n",
    "import openpyxl"
   ]
  },
  {
   "cell_type": "code",
   "execution_count": 3,
   "metadata": {},
   "outputs": [
    {
     "name": "stdout",
     "output_type": "stream",
     "text": [
      "Collecting openpyxl\n",
      "  Downloading https://files.pythonhosted.org/packages/5c/90/61f83be1c335a9b69fa773784a785d9de95c7561d1661918796fd1cba3d2/openpyxl-3.0.5-py2.py3-none-any.whl (242kB)\n",
      "Collecting et-xmlfile (from openpyxl)\n",
      "  Downloading https://files.pythonhosted.org/packages/22/28/a99c42aea746e18382ad9fb36f64c1c1f04216f41797f2f0fa567da11388/et_xmlfile-1.0.1.tar.gz\n",
      "Collecting jdcal (from openpyxl)\n",
      "  Downloading https://files.pythonhosted.org/packages/f0/da/572cbc0bc582390480bbd7c4e93d14dc46079778ed915b505dc494b37c57/jdcal-1.4.1-py2.py3-none-any.whl\n",
      "Building wheels for collected packages: et-xmlfile\n",
      "  Building wheel for et-xmlfile (setup.py): started\n",
      "  Building wheel for et-xmlfile (setup.py): finished with status 'done'\n",
      "  Stored in directory: C:\\Users\\Shriyash\\AppData\\Local\\pip\\Cache\\wheels\\2a\\77\\35\\0da0965a057698121fc7d8c5a7a9955cdbfb3cc4e2423cad39\n",
      "Successfully built et-xmlfile\n",
      "Installing collected packages: et-xmlfile, jdcal, openpyxl\n",
      "Successfully installed et-xmlfile-1.0.1 jdcal-1.4.1 openpyxl-3.0.5\n"
     ]
    }
   ],
   "source": [
    "!pip install openpyxl"
   ]
  },
  {
   "cell_type": "code",
   "execution_count": 4,
   "metadata": {},
   "outputs": [],
   "source": [
    "import openpyxl"
   ]
  },
  {
   "cell_type": "code",
   "execution_count": 5,
   "metadata": {},
   "outputs": [],
   "source": [
    "# INSTALATION OF OPENPYXL AND BASICS\n",
    "#pip install openpyxl\n",
    "\n",
    "from openpyxl import Workbook  \n",
    "import time  \n",
    "  \n",
    "wb = Workbook()  \n",
    "sheet = wb.active  \n",
    "  \n",
    "sheet['A1'] = 87  \n",
    "sheet['A2'] = \"Shriyash\"  \n",
    "sheet['A3'] = 41.80  \n",
    "sheet['A4'] = 10  \n",
    "  \n",
    "now = time.strftime(\"%x\")  \n",
    "sheet['A5'] = now  \n",
    "  \n",
    "wb.save(\"data/sample_file.xlsx\")"
   ]
  },
  {
   "cell_type": "code",
   "execution_count": 7,
   "metadata": {},
   "outputs": [],
   "source": [
    "#%%\n",
    "# OPENPYXL WRITE DATA TO CELL\n",
    "from openpyxl import load_workbook  \n",
    "wb = load_workbook('data/sample_file.xlsx')  \n",
    "  \n",
    "sheet = wb.active  \n",
    "sheet['A1'] = 'CRISIL'  \n",
    "  \n",
    "sheet.cell(row=2, column=2).value = 5  \n",
    "wb.save('data/sample_file_new.xlsx')"
   ]
  },
  {
   "cell_type": "code",
   "execution_count": 8,
   "metadata": {},
   "outputs": [],
   "source": [
    "#%%\n",
    "# OPENPYXL APPEND VALUES\n",
    "\n",
    "from openpyxl import Workbook  \n",
    "  \n",
    "wb = Workbook()  \n",
    "sheet = wb.active  \n",
    "  \n",
    "data = (  \n",
    "    (11, 48, 50),  \n",
    "    (81, 30, 82),  \n",
    "    (20, 51, 72),  \n",
    "    (21, 14, 60),  \n",
    "    (28, 41, 49),  \n",
    "    (74, 65, 53),  \n",
    "    (\"Peter\", 'Andrew',45.63)  \n",
    ")  \n",
    "  \n",
    "for i in data:  \n",
    "    sheet.append(i)  \n",
    "wb.save('data/appending_values.xlsx')"
   ]
  },
  {
   "cell_type": "code",
   "execution_count": 9,
   "metadata": {},
   "outputs": [
    {
     "name": "stdout",
     "output_type": "stream",
     "text": [
      "The first cell value: 87\n",
      "The second cell value: Shriyash\n",
      "The third cell value: 41.8\n"
     ]
    }
   ],
   "source": [
    "#%%\n",
    "# OPENPYXL READ DATA FROM CELL\n",
    "\n",
    "import openpyxl  \n",
    "  \n",
    "wb = openpyxl.load_workbook('data/sample_file.xlsx')  \n",
    "  \n",
    "sheet = wb.active  \n",
    "  \n",
    "x1 = sheet['A1']  \n",
    "x2 = sheet['A2']  \n",
    "#using cell() function  \n",
    "x3 = sheet.cell(row=3, column=1)  \n",
    "  \n",
    "print(\"The first cell value:\",x1.value)  \n",
    "print(\"The second cell value:\",x2.value)  \n",
    "print(\"The third cell value:\",x3.value)"
   ]
  },
  {
   "cell_type": "code",
   "execution_count": 11,
   "metadata": {},
   "outputs": [
    {
     "name": "stdout",
     "output_type": "stream",
     "text": [
      "['Monday', 'Tuesday', 'Wednesday', 'Sheet3', 'Sheet4']\n",
      "<class 'openpyxl.worksheet.worksheet.Worksheet'>\n",
      "Monday\n"
     ]
    }
   ],
   "source": [
    "#%%\n",
    "# OPENPYXL SHEETS\n",
    "\n",
    "import openpyxl  \n",
    "wb = openpyxl.load_workbook('data/Weekdays.xlsx')  \n",
    "  \n",
    "#Getting list of all sheet available in workbook  \n",
    "print(wb.sheetnames)\n",
    "  \n",
    "# Returning object  \n",
    "active_sheet = wb.active  \n",
    "print(type(active_sheet))  \n",
    "  \n",
    "# Title of sheet  \n",
    "sheet = wb['Monday']\n",
    "print(sheet.title)\n",
    "\n",
    "sheet['A1'] = 87  \n",
    "sheet['A2'] = \"Shriyash\"  \n",
    "sheet['A3'] = 41.80  \n",
    "sheet['A4'] = 10\n",
    "\n",
    "wb.save('data/Weekdays_new.xlsx')"
   ]
  },
  {
   "cell_type": "code",
   "execution_count": 12,
   "metadata": {},
   "outputs": [],
   "source": [
    "#%%\n",
    "# OPENPYXL MERGING CELL AND FREEZE THE PANES\n",
    "\n",
    "from openpyxl.styles import Alignment  \n",
    "  \n",
    "wb = Workbook()  \n",
    "sheet = wb.active\n",
    "sheet.title = \"sheet_name_new\"\n",
    "  \n",
    "sheet.merge_cells('A1:B2')\n",
    "# We also have unmerged_cells() method to unmerge the cells back again.\n",
    "\n",
    "# We can freeze the pane by specifying the index\n",
    "sheet.freeze_panes = 'A4'\n",
    "\n",
    "  \n",
    "cell = sheet.cell(row=1, column=1)  \n",
    "cell.value = 'Shriyash dewjee'  \n",
    "cell.alignment = Alignment(horizontal='center', vertical='center')  \n",
    "  \n",
    "wb.save('data/merging.xlsx')"
   ]
  },
  {
   "cell_type": "code",
   "execution_count": 13,
   "metadata": {},
   "outputs": [
    {
     "name": "stderr",
     "output_type": "stream",
     "text": [
      "c:\\users\\shriyash\\pycharmprojects\\coursera\\venv\\lib\\site-packages\\ipykernel_launcher.py:22: DeprecationWarning: Call to deprecated function copy (Use copy(obj) or cell.obj = cell.obj + other).\n"
     ]
    }
   ],
   "source": [
    "#%%\n",
    "# OPENPYXL FORMULAS\n",
    "\n",
    "from openpyxl import Workbook  \n",
    "wb = Workbook()  \n",
    "sheet = wb.active  \n",
    "  \n",
    "rows_count = (  \n",
    "    (14, 27),  \n",
    "    (22, 30),  \n",
    "    (42, 92),  \n",
    "    (51, 32),  \n",
    "    (16, 60),  \n",
    "    (63, 13)  \n",
    ")  \n",
    "  \n",
    "for i in rows_count:  \n",
    "    sheet.append(i)  \n",
    "  \n",
    "cell = sheet.cell(row=7, column=3)  \n",
    "cell.value = \"=SUM(A1:B6)\"  \n",
    "cell.font = cell.font.copy(bold=True)  \n",
    "  \n",
    "wb.save('data/formulas_book.xlsx')"
   ]
  },
  {
   "cell_type": "code",
   "execution_count": 14,
   "metadata": {},
   "outputs": [],
   "source": [
    "#%%\n",
    "# ADDING CHART TO EXCEL FILE\n",
    "\n",
    "from openpyxl import Workbook  \n",
    "from openpyxl.chart import BarChart, Reference  \n",
    "  \n",
    "wb = Workbook()  \n",
    "sheet = wb.active  \n",
    "  \n",
    "# Let's create some sample student data  \n",
    "rows = [  \n",
    "    [\"Serial_no\", \"Roll no\", \"Marks\"],  \n",
    "    [1, \"0090011\", 75],  \n",
    "    [2, \"0090012\", 60],  \n",
    "    [3, \"0090013\", 43],  \n",
    "    [4, \"0090014\", 97],  \n",
    "    [5, \"0090015\", 63],  \n",
    "    [6, \"0090016\", 54],  \n",
    "    [7, \"0090017\", 86],  \n",
    "]  \n",
    "  \n",
    "for i in rows:  \n",
    "    sheet.append(i)  \n",
    "  \n",
    "chart = BarChart()  \n",
    "values = Reference(worksheet=sheet,  \n",
    "                 min_row=1,  \n",
    "                 max_row=8,  \n",
    "                 min_col=2,  \n",
    "                 max_col=3)  \n",
    "  \n",
    "chart.add_data(values, titles_from_data=True)  \n",
    "sheet.add_chart(chart, \"E2\")  \n",
    "  \n",
    "wb.save(\"data/chart.xlsx\") \n"
   ]
  },
  {
   "cell_type": "code",
   "execution_count": 3,
   "metadata": {},
   "outputs": [],
   "source": [
    "#%%\n",
    "# ADDING IMAGE TO EXCEL\n",
    "\n",
    "from openpyxl import Workbook\n",
    "from openpyxl.drawing.image import Image\n",
    "  \n",
    "# You would need to install additional library\n",
    "# !pip install pillow\n",
    "\n",
    "# Let's use the hello_world spreadsheet since it has less data  \n",
    "wb = Workbook()  \n",
    "spreadsheet = wb.active\n",
    "  \n",
    "logo = Image(\"data/image.jpg\")  \n",
    "# logo = openpyxl.drawing.image.Image(r'data\\\\image.jpg')\n",
    "  \n",
    "# A bit of resizing to not fill the whole spreadsheet with the logo  \n",
    "logo.height = 150  \n",
    "logo.width = 150  \n",
    "  \n",
    "spreadsheet.add_image(logo, \"A1\")\n",
    "wb.save(\"data/hello_world_image.xlsx\")"
   ]
  },
  {
   "cell_type": "code",
   "execution_count": null,
   "metadata": {},
   "outputs": [],
   "source": []
  },
  {
   "cell_type": "code",
   "execution_count": null,
   "metadata": {},
   "outputs": [],
   "source": []
  }
 ],
 "metadata": {
  "kernelspec": {
   "display_name": "Python 3",
   "language": "python",
   "name": "python3"
  },
  "language_info": {
   "codemirror_mode": {
    "name": "ipython",
    "version": 3
   },
   "file_extension": ".py",
   "mimetype": "text/x-python",
   "name": "python",
   "nbconvert_exporter": "python",
   "pygments_lexer": "ipython3",
   "version": "3.7.8"
  }
 },
 "nbformat": 4,
 "nbformat_minor": 4
}
